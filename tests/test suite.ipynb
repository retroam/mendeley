{
 "metadata": {
  "name": "",
  "signature": "sha256:a7cbe8fc182319b4d5a184c2e902425ab246da6be7146683f8f32274a006545b"
 },
 "nbformat": 3,
 "nbformat_minor": 0,
 "worksheets": [
  {
   "cells": [
    {
     "cell_type": "markdown",
     "metadata": {},
     "source": [
      "## Test suite for Mendeley addon"
     ]
    },
    {
     "cell_type": "markdown",
     "metadata": {},
     "source": [
      "Strive for 100% code coverage, but don't get obsessed over the coverage score.\n",
      "\n",
      "#####General testing guidelines\n",
      "- Use long descriptive names. This often obviates the need for docstrings in test methods.\n",
      "- Tests should be isolated. Don't interact with a real database or network. Use a separate test database that gets torn down or use mock objects.\n",
      "- prefer factories to fixtures\n",
      "- Never let incomplete tests pass, else you run the risk of forgetting about them. Instead, add a placeholder\n",
      "\n",
      "#####Unit Tests\n",
      "- Focus on one tiny bit of functionality.\n",
      "- Should be fast, but a slow test is better than no test,\n",
      "- It often makes sense to have one testcase class for a single class or model\n",
      "\n",
      "Example:\n",
      "\n",
      "import unittest import factories\n",
      "\n",
      "class PersonTest(unittest.TestCase): def setUp(self): self.person = factories.PersonFactory()\n",
      "\n",
      "def test_has_age_in_dog_years(self):\n",
      "    self.assertEqual(self.person.dog_years, self.person.age/7)\n",
      "    \n",
      " #####Functional Tests\n",
      " \n",
      " Functional tests are higher level tests that are closer to how an end-user would interact with your application. They are typically used for web and GUI applications\n",
      " - Write tests as scenarios. Testcase and test method names should read like a scenario description.\n",
      " - Use comments to write out stories, before writing the test code.\n",
      " \n",
      " class TestAUser(unittest.TestCase):\n",
      "     def test_can_write_a_blog_post(self):\n",
      "         # Goes to her dashboard\n",
      "         ...\n",
      "         # Clicks \"New Post\"\n",
      "         ...\n",
      "         # Fills out the post form\n",
      "         ...\n",
      "         # Clicks \"Submit\"\n",
      "         ...\n",
      "         # Can see the new post\n",
      "         ...\n",
      "Notice how the testcase and test method read together like \"Test A User can write a blog post\"."
     ]
    },
    {
     "cell_type": "code",
     "collapsed": false,
     "input": [
      "import sys\n",
      "sys.path.append('/Users/robertamanfu/Documents/osf/tests')\n",
      "sys.path.append('/Users/robertamanfu/Documents/osf/ENV/lib/python2.7/site-packages')"
     ],
     "language": "python",
     "metadata": {},
     "outputs": [],
     "prompt_number": 9
    },
    {
     "cell_type": "code",
     "collapsed": false,
     "input": [
      "#factories.py\n",
      "from factory import SubFactory\n",
      "from tests.factories import ModularOdmFactory, UserFactory, ProjectFactory"
     ],
     "language": "python",
     "metadata": {},
     "outputs": [
      {
       "ename": "ImportError",
       "evalue": "No module named factories",
       "output_type": "pyerr",
       "traceback": [
        "\u001b[0;31m---------------------------------------------------------------------------\u001b[0m\n\u001b[0;31mImportError\u001b[0m                               Traceback (most recent call last)",
        "\u001b[0;32m<ipython-input-12-1c2b0bb6fd94>\u001b[0m in \u001b[0;36m<module>\u001b[0;34m()\u001b[0m\n\u001b[1;32m      1\u001b[0m \u001b[0;31m#factories.py\u001b[0m\u001b[0;34m\u001b[0m\u001b[0;34m\u001b[0m\u001b[0m\n\u001b[1;32m      2\u001b[0m \u001b[0;32mfrom\u001b[0m \u001b[0mfactory\u001b[0m \u001b[0;32mimport\u001b[0m \u001b[0mSubFactory\u001b[0m\u001b[0;34m\u001b[0m\u001b[0m\n\u001b[0;32m----> 3\u001b[0;31m \u001b[0;32mfrom\u001b[0m \u001b[0mtests\u001b[0m\u001b[0;34m.\u001b[0m\u001b[0mfactories\u001b[0m \u001b[0;32mimport\u001b[0m \u001b[0mModularOdmFactory\u001b[0m\u001b[0;34m,\u001b[0m \u001b[0mUserFactory\u001b[0m\u001b[0;34m,\u001b[0m \u001b[0mProjectFactory\u001b[0m\u001b[0;34m\u001b[0m\u001b[0m\n\u001b[0m",
        "\u001b[0;31mImportError\u001b[0m: No module named factories"
       ]
      }
     ],
     "prompt_number": 12
    },
    {
     "cell_type": "code",
     "collapsed": false,
     "input": [
      "from tests import test_addons"
     ],
     "language": "python",
     "metadata": {},
     "outputs": [
      {
       "ename": "ImportError",
       "evalue": "cannot import name test_addons",
       "output_type": "pyerr",
       "traceback": [
        "\u001b[0;31m---------------------------------------------------------------------------\u001b[0m\n\u001b[0;31mImportError\u001b[0m                               Traceback (most recent call last)",
        "\u001b[0;32m<ipython-input-12-f71941ada2e7>\u001b[0m in \u001b[0;36m<module>\u001b[0;34m()\u001b[0m\n\u001b[0;32m----> 1\u001b[0;31m \u001b[0;32mfrom\u001b[0m \u001b[0mtests\u001b[0m \u001b[0;32mimport\u001b[0m \u001b[0mtest_addons\u001b[0m\u001b[0;34m\u001b[0m\u001b[0m\n\u001b[0m",
        "\u001b[0;31mImportError\u001b[0m: cannot import name test_addons"
       ]
      }
     ],
     "prompt_number": 12
    },
    {
     "cell_type": "code",
     "collapsed": false,
     "input": [
      "sys.path"
     ],
     "language": "python",
     "metadata": {},
     "outputs": [
      {
       "metadata": {},
       "output_type": "pyout",
       "prompt_number": 3,
       "text": [
        "['',\n",
        " '/Library/Python/2.7/site-packages/pip-1.5.4-py2.7.egg',\n",
        " '/Library/Python/2.7/site-packages/scikit_learn-0.14.1-py2.7-macosx-10.9-intel.egg',\n",
        " '/Library/Python/2.7/site-packages/ipython-2.0.0-py2.7.egg',\n",
        " '/Library/Python/2.7/site-packages/mock-1.0.1-py2.7.egg',\n",
        " '/Library/Python/2.7/site-packages/nose-1.3.1-py2.7.egg',\n",
        " '/Library/Python/2.7/site-packages/pyzmq-14.2.0-py2.7-macosx-10.6-intel.egg',\n",
        " '/Library/Python/2.7/site-packages/Jinja2-2.7.2-py2.7.egg',\n",
        " '/Library/Python/2.7/site-packages/Pygments-1.6-py2.7.egg',\n",
        " '/Library/Python/2.7/site-packages/Sphinx-1.2.2-py2.7.egg',\n",
        " '/Library/Python/2.7/site-packages/numpydoc-0.4-py2.7.egg',\n",
        " '/Library/Python/2.7/site-packages/tornado-3.2-py2.7-macosx-10.9-intel.egg',\n",
        " '/Library/Python/2.7/site-packages/gnureadline-6.3.3-py2.7-macosx-10.9-intel.egg',\n",
        " '/Library/Python/2.7/site-packages/MarkupSafe-0.21-py2.7.egg',\n",
        " '/Library/Python/2.7/site-packages/docutils-0.11-py2.7.egg',\n",
        " '/Library/Python/2.7/site-packages/backports.ssl_match_hostname-3.4.0.2-py2.7.egg',\n",
        " '/Library/Python/2.7/site-packages/pandas-0.13.1-py2.7-macosx-10.9-intel.egg',\n",
        " '/Library/Python/2.7/site-packages/rpy2-2.3.10-py2.7-macosx-10.9-intel.egg',\n",
        " '/System/Library/Frameworks/Python.framework/Versions/2.7/lib/python27.zip',\n",
        " '/System/Library/Frameworks/Python.framework/Versions/2.7/lib/python2.7',\n",
        " '/System/Library/Frameworks/Python.framework/Versions/2.7/lib/python2.7/plat-darwin',\n",
        " '/System/Library/Frameworks/Python.framework/Versions/2.7/lib/python2.7/plat-mac',\n",
        " '/System/Library/Frameworks/Python.framework/Versions/2.7/lib/python2.7/plat-mac/lib-scriptpackages',\n",
        " '/System/Library/Frameworks/Python.framework/Versions/2.7/Extras/lib/python',\n",
        " '/System/Library/Frameworks/Python.framework/Versions/2.7/lib/python2.7/lib-tk',\n",
        " '/System/Library/Frameworks/Python.framework/Versions/2.7/lib/python2.7/lib-old',\n",
        " '/System/Library/Frameworks/Python.framework/Versions/2.7/lib/python2.7/lib-dynload',\n",
        " '/System/Library/Frameworks/Python.framework/Versions/2.7/Extras/lib/python/PyObjC',\n",
        " '/Library/Python/2.7/site-packages',\n",
        " '/Library/Python/2.7/site-packages/ipython-2.0.0-py2.7.egg/IPython/extensions',\n",
        " '/Users/robertamanfu/Documents/osf-develop/website']"
       ]
      }
     ],
     "prompt_number": 3
    },
    {
     "cell_type": "markdown",
     "metadata": {},
     "source": [
      "\n",
      "#####To run tests:\n",
      "    invoke solr\n",
      "    invoke test_addons\n",
      "    \n",
      "#####result:\n",
      "Ran 263 tests in 268.688s\n",
      "FAILED (SKIP=7, errors=13, failures=4)\n"
     ]
    },
    {
     "cell_type": "code",
     "collapsed": false,
     "input": [
      "pwd"
     ],
     "language": "python",
     "metadata": {},
     "outputs": [
      {
       "metadata": {},
       "output_type": "pyout",
       "prompt_number": 5,
       "text": [
        "u'/Users/robertamanfu/Documents/osf-develop/website/addons/mendeley/tests'"
       ]
      }
     ],
     "prompt_number": 5
    },
    {
     "cell_type": "code",
     "collapsed": false,
     "input": [],
     "language": "python",
     "metadata": {},
     "outputs": []
    }
   ],
   "metadata": {}
  }
 ]
}