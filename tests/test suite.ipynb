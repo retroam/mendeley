{
 "metadata": {
  "name": "",
  "signature": "sha256:8d1a1b776cb9cf9ef587ee05bcc0acaa80a2057b9ce72dcb161e3ff4d9284817"
 },
 "nbformat": 3,
 "nbformat_minor": 0,
 "worksheets": [
  {
   "cells": [
    {
     "cell_type": "markdown",
     "metadata": {},
     "source": [
      "## Test suite for Mendeley addon"
     ]
    },
    {
     "cell_type": "markdown",
     "metadata": {},
     "source": [
      "Strive for 100% code coverage, but don't get obsessed over the coverage score.\n",
      "\n",
      "#####General testing guidelines\n",
      "- Use long descriptive names. This often obviates the need for docstrings in test methods.\n",
      "- Tests should be isolated. Don't interact with a real database or network. Use a separate test database that gets torn down or use mock objects"
     ]
    },
    {
     "cell_type": "code",
     "collapsed": false,
     "input": [],
     "language": "python",
     "metadata": {},
     "outputs": []
    }
   ],
   "metadata": {}
  }
 ]
}