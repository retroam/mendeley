{
 "metadata": {
  "name": "",
  "signature": "sha256:558c98f6f1b98eb0b2aa0801e0cf5f7b201b9a0197ac694c9da5255afed6ad8a"
 },
 "nbformat": 3,
 "nbformat_minor": 0,
 "worksheets": [
  {
   "cells": [
    {
     "cell_type": "markdown",
     "metadata": {},
     "source": [
      "## Test suite for Mendeley addon"
     ]
    },
    {
     "cell_type": "markdown",
     "metadata": {},
     "source": [
      "Strive for 100% code coverage, but don't get obsessed over the coverage score.\n",
      "\n",
      "#####General testing guidelines\n",
      "- Use long descriptive names. This often obviates the need for docstrings in test methods.\n",
      "- Tests should be isolated. Don't interact with a real database or network. Use a separate test database that gets torn down or use mock objects.\n",
      "- prefer factories to fixtures\n",
      "- Never let incomplete tests pass, else you run the risk of forgetting about them. Instead, add a placeholder\n",
      "\n",
      "#####Unit Tests\n",
      "- Focus on one tiny bit of functionality.\n",
      "- Should be fast, but a slow test is better than no test,\n",
      "- It often makes sense to have one testcase class for a single class or model\n",
      "\n",
      "Example:\n",
      "\n",
      "import unittest import factories\n",
      "\n",
      "class PersonTest(unittest.TestCase): def setUp(self): self.person = factories.PersonFactory()\n",
      "\n",
      "def test_has_age_in_dog_years(self):\n",
      "    self.assertEqual(self.person.dog_years, self.person.age/7)\n",
      "    \n",
      " #####Functional Tests\n",
      " \n",
      " Functional tests are higher level tests that are closer to how an end-user would interact with your application. They are typically used for web and GUI applications\n",
      " - Write tests as scenarios. Testcase and test method names should read like a scenario description.\n",
      " - Use comments to write out stories, before writing the test code.\n",
      " \n",
      " class TestAUser(unittest.TestCase):\n",
      "     def test_can_write_a_blog_post(self):\n",
      "         # Goes to her dashboard\n",
      "         ...\n",
      "         # Clicks \"New Post\"\n",
      "         ...\n",
      "         # Fills out the post form\n",
      "         ...\n",
      "         # Clicks \"Submit\"\n",
      "         ...\n",
      "         # Can see the new post\n",
      "         ...\n",
      "Notice how the testcase and test method read together like \"Test A User can write a blog post\"."
     ]
    },
    {
     "cell_type": "code",
     "collapsed": false,
     "input": [
      "import sys\n",
      "sys.path.append('/Users/robertamanfu/Documents/osf-develop/website')\n"
     ],
     "language": "python",
     "metadata": {},
     "outputs": [],
     "prompt_number": 6
    },
    {
     "cell_type": "code",
     "collapsed": false,
     "input": [
      "#factories.py\n",
      "from factory import SubFactory\n",
      "from tests.factories import ModularOdmFactory, UserFactory, ProjectFactory"
     ],
     "language": "python",
     "metadata": {},
     "outputs": [
      {
       "ename": "ImportError",
       "evalue": "No module named factories",
       "output_type": "pyerr",
       "traceback": [
        "\u001b[0;31m---------------------------------------------------------------------------\u001b[0m\n\u001b[0;31mImportError\u001b[0m                               Traceback (most recent call last)",
        "\u001b[0;32m<ipython-input-7-1c2b0bb6fd94>\u001b[0m in \u001b[0;36m<module>\u001b[0;34m()\u001b[0m\n\u001b[1;32m      1\u001b[0m \u001b[0;31m#factories.py\u001b[0m\u001b[0;34m\u001b[0m\u001b[0;34m\u001b[0m\u001b[0m\n\u001b[1;32m      2\u001b[0m \u001b[0;32mfrom\u001b[0m \u001b[0mfactory\u001b[0m \u001b[0;32mimport\u001b[0m \u001b[0mSubFactory\u001b[0m\u001b[0;34m\u001b[0m\u001b[0m\n\u001b[0;32m----> 3\u001b[0;31m \u001b[0;32mfrom\u001b[0m \u001b[0mtests\u001b[0m\u001b[0;34m.\u001b[0m\u001b[0mfactories\u001b[0m \u001b[0;32mimport\u001b[0m \u001b[0mModularOdmFactory\u001b[0m\u001b[0;34m,\u001b[0m \u001b[0mUserFactory\u001b[0m\u001b[0;34m,\u001b[0m \u001b[0mProjectFactory\u001b[0m\u001b[0;34m\u001b[0m\u001b[0m\n\u001b[0m",
        "\u001b[0;31mImportError\u001b[0m: No module named factories"
       ]
      }
     ],
     "prompt_number": 7
    },
    {
     "cell_type": "code",
     "collapsed": false,
     "input": [
      "from tests import test_addons"
     ],
     "language": "python",
     "metadata": {},
     "outputs": [
      {
       "ename": "ImportError",
       "evalue": "cannot import name test_addons",
       "output_type": "pyerr",
       "traceback": [
        "\u001b[0;31m---------------------------------------------------------------------------\u001b[0m\n\u001b[0;31mImportError\u001b[0m                               Traceback (most recent call last)",
        "\u001b[0;32m<ipython-input-12-f71941ada2e7>\u001b[0m in \u001b[0;36m<module>\u001b[0;34m()\u001b[0m\n\u001b[0;32m----> 1\u001b[0;31m \u001b[0;32mfrom\u001b[0m \u001b[0mtests\u001b[0m \u001b[0;32mimport\u001b[0m \u001b[0mtest_addons\u001b[0m\u001b[0;34m\u001b[0m\u001b[0m\n\u001b[0m",
        "\u001b[0;31mImportError\u001b[0m: cannot import name test_addons"
       ]
      }
     ],
     "prompt_number": 12
    },
    {
     "cell_type": "markdown",
     "metadata": {},
     "source": [
      "\n",
      "#####To run tests:\n",
      "    invoke solr\n",
      "    invoke test_addons\n",
      "    \n",
      "#####result:\n",
      "Ran 263 tests in 268.688s\n",
      "FAILED (SKIP=7, errors=13, failures=4)\n"
     ]
    },
    {
     "cell_type": "code",
     "collapsed": false,
     "input": [
      "pwd"
     ],
     "language": "python",
     "metadata": {},
     "outputs": [
      {
       "metadata": {},
       "output_type": "pyout",
       "prompt_number": 5,
       "text": [
        "u'/Users/robertamanfu/Documents/osf-develop/website/addons/mendeley/tests'"
       ]
      }
     ],
     "prompt_number": 5
    },
    {
     "cell_type": "code",
     "collapsed": false,
     "input": [],
     "language": "python",
     "metadata": {},
     "outputs": []
    }
   ],
   "metadata": {}
  }
 ]
}