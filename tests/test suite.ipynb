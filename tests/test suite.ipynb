{
 "metadata": {
  "name": "",
  "signature": "sha256:683b2c419d5a1538e139c43f847e6862f02a5b1392a330281e49ded65f217f8f"
 },
 "nbformat": 3,
 "nbformat_minor": 0,
 "worksheets": [
  {
   "cells": [
    {
     "cell_type": "markdown",
     "metadata": {},
     "source": [
      "## Test suite for Mendeley addon"
     ]
    },
    {
     "cell_type": "markdown",
     "metadata": {},
     "source": [
      "Strive for 100% code coverage, but don't get obsessed over the coverage score.\n",
      "\n",
      "#####General testing guidelines\n",
      "- Use long descriptive names. This often obviates the need for docstrings in test methods.\n",
      "- Tests should be isolated. Don't interact with a real database or network. Use a separate test database that gets torn down or use mock objects.\n",
      "- prefer factories to fixtures\n",
      "- Never let incomplete tests pass, else you run the risk of forgetting about them. Instead, add a placeholder\n",
      "\n",
      "#####Unit Tests\n",
      "- Focus on one tiny bit of functionality.\n",
      "- Should be fast, but a slow test is better than no test,\n",
      "- It often makes sense to have one testcase class for a single class or model\n",
      "\n",
      "Example:\n",
      "\n",
      "import unittest import factories\n",
      "\n",
      "class PersonTest(unittest.TestCase): def setUp(self): self.person = factories.PersonFactory()\n",
      "\n",
      "def test_has_age_in_dog_years(self):\n",
      "    self.assertEqual(self.person.dog_years, self.person.age/7)\n",
      "    \n",
      " #####Functional Tests\n",
      " \n",
      " Functional tests are higher level tests that are closer to how an end-user would interact with your application. They are typically used for web and GUI applications\n",
      " - Write tests as scenarios. Testcase and test method names should read like a scenario description.\n",
      " - Use comments to write out stories, before writing the test code.\n",
      " \n",
      " class TestAUser(unittest.TestCase):\n",
      "     def test_can_write_a_blog_post(self):\n",
      "         # Goes to her dashboard\n",
      "         ...\n",
      "         # Clicks \"New Post\"\n",
      "         ...\n",
      "         # Fills out the post form\n",
      "         ...\n",
      "         # Clicks \"Submit\"\n",
      "         ...\n",
      "         # Can see the new post\n",
      "         ...\n",
      "Notice how the testcase and test method read together like \"Test A User can write a blog post\"."
     ]
    },
    {
     "cell_type": "code",
     "collapsed": false,
     "input": [
      "import sys\n",
      "sys.path.insert(0, '/Users/robertamanfu/Documents/osf-develop')\n"
     ],
     "language": "python",
     "metadata": {},
     "outputs": []
    },
    {
     "cell_type": "code",
     "collapsed": false,
     "input": [
      "#factories.py\n",
      "from factory import SubFactory, Sequence\n",
      "from tests.factories import ModularOdmFactory, UserFactory, ProjectFactory\n",
      "from website.addons.mendeley.model import (\n",
      "    AddonMendeleyUserSettings, AddonMendeleyNodeSettings\n",
      ")\n",
      "class MendeleyUserSettingsFactory(ModularOdmFactory):\n",
      "    FACTORY_FOR = AddonMendeleyUserSettings\n",
      "\n",
      "    owner = SubFactory(UserFactory)\n",
      "    access_token = Sequence(lambda n: 'abcdef{0}'.format(n))\n",
      "\n",
      "\n",
      "class MendeleyNodeSettingsFactory(ModularOdmFactory):\n",
      "    FACTORY_FOR = AddonMendeleyNodeSettings\n",
      "\n",
      "    owner = SubFactory(ProjectFactory)\n",
      "    user_settings = SubFactory(MendeleyUserSettingsFactory)\n",
      "    folder = 'COS papers'"
     ],
     "language": "python",
     "metadata": {},
     "outputs": []
    },
    {
     "cell_type": "code",
     "collapsed": false,
     "input": [
      "#test_models.py\n",
      "import os\n",
      "\n",
      "from nose.tools import *\n",
      "\n",
      "from framework.auth.decorators import Auth\n",
      "from website.addons.mendeley.model import (\n",
      "AddonMendeleyUserSettings, AddonMendeleyNodeSettings\n",
      ")\n",
      "\n",
      "from tests.base import DbTestCase, fake, URLLookup\n",
      "from tests.factories import UserFactory, ProjectFactory\n",
      "from website.addons.mendeley.tests.factories import (\n",
      "MendeleyUserSettingsFactory, MendeleyNodeSettingsFactory\n",
      ")\n",
      "\n",
      "from website.app import init_app\n",
      "\n",
      "app = init_app(set_backends=False, routes=True)\n",
      "lookup = URLLookup(app)\n",
      "\n",
      "class TestUserSettingsModel(DbTestCase):\n",
      "\n",
      "    def setUp(self):\n",
      "        self.user = UserFactory()\n",
      "\n",
      "    def test_fields(self):\n",
      "\n",
      "        user_settings = MendeleyUserSettingsFactory(\n",
      "            access_token='12345',\n",
      "            mendeley_id='abc',\n",
      "            owner=self.user\n",
      "        )\n",
      "        user_settings.save()\n",
      "        retrieved = AddonMendeleyUserSettings.load(user_settings._primary_key)\n",
      "        assert_true(retrieved.access_token)\n",
      "        assert_true(retrieved.mendeley_id)\n",
      "        assert_true(retrieved.owner)\n",
      "\n",
      "    def test_has_auth(self):\n",
      "        user_settings = MendeleyUserSettingsFactory(access_token=None)\n",
      "        assert_false(user_settings.has_auth)\n",
      "        user_settings.access_token = '12345'\n",
      "        user_settings.save()\n",
      "        assert_true(user_settings.has_auth)\n"
     ],
     "language": "python",
     "metadata": {},
     "outputs": []
    },
    {
     "cell_type": "code",
     "collapsed": false,
     "input": [
      "user_settings = MendeleyUserSettingsFactory(\n",
      "            access_token='12345',\n",
      "            mendeley_id='abc',\n",
      "            owner=UserFactory()\n",
      "        )"
     ],
     "language": "python",
     "metadata": {},
     "outputs": [
      {
       "ename": "ImproperConfigurationError",
       "evalue": "No storage backend attached to schema <GUID>.",
       "output_type": "pyerr",
       "traceback": [
        "\u001b[0;31m---------------------------------------------------------------------------\u001b[0m\n\u001b[0;31mImproperConfigurationError\u001b[0m                Traceback (most recent call last)",
        "\u001b[0;32m<ipython-input-14-6a64a33f11f3>\u001b[0m in \u001b[0;36m<module>\u001b[0;34m()\u001b[0m\n\u001b[1;32m      2\u001b[0m             \u001b[0maccess_token\u001b[0m\u001b[0;34m=\u001b[0m\u001b[0;34m'12345'\u001b[0m\u001b[0;34m,\u001b[0m\u001b[0;34m\u001b[0m\u001b[0m\n\u001b[1;32m      3\u001b[0m             \u001b[0mmendeley_id\u001b[0m\u001b[0;34m=\u001b[0m\u001b[0;34m'abc'\u001b[0m\u001b[0;34m,\u001b[0m\u001b[0;34m\u001b[0m\u001b[0m\n\u001b[0;32m----> 4\u001b[0;31m             \u001b[0mowner\u001b[0m\u001b[0;34m=\u001b[0m\u001b[0mUserFactory\u001b[0m\u001b[0;34m(\u001b[0m\u001b[0;34m)\u001b[0m\u001b[0;34m\u001b[0m\u001b[0m\n\u001b[0m\u001b[1;32m      5\u001b[0m         )\n",
        "\u001b[0;32m/Users/robertamanfu/.pyenv/versions/my-virtual-env-2.7.6/lib/python2.7/site-packages/factory/base.pyc\u001b[0m in \u001b[0;36m__call__\u001b[0;34m(cls, **kwargs)\u001b[0m\n\u001b[1;32m     79\u001b[0m             \u001b[0;32mreturn\u001b[0m \u001b[0mcls\u001b[0m\u001b[0;34m.\u001b[0m\u001b[0mbuild\u001b[0m\u001b[0;34m(\u001b[0m\u001b[0;34m**\u001b[0m\u001b[0mkwargs\u001b[0m\u001b[0;34m)\u001b[0m\u001b[0;34m\u001b[0m\u001b[0m\n\u001b[1;32m     80\u001b[0m         \u001b[0;32melif\u001b[0m \u001b[0mcls\u001b[0m\u001b[0;34m.\u001b[0m\u001b[0mFACTORY_STRATEGY\u001b[0m \u001b[0;34m==\u001b[0m \u001b[0mCREATE_STRATEGY\u001b[0m\u001b[0;34m:\u001b[0m\u001b[0;34m\u001b[0m\u001b[0m\n\u001b[0;32m---> 81\u001b[0;31m             \u001b[0;32mreturn\u001b[0m \u001b[0mcls\u001b[0m\u001b[0;34m.\u001b[0m\u001b[0mcreate\u001b[0m\u001b[0;34m(\u001b[0m\u001b[0;34m**\u001b[0m\u001b[0mkwargs\u001b[0m\u001b[0;34m)\u001b[0m\u001b[0;34m\u001b[0m\u001b[0m\n\u001b[0m\u001b[1;32m     82\u001b[0m         \u001b[0;32melif\u001b[0m \u001b[0mcls\u001b[0m\u001b[0;34m.\u001b[0m\u001b[0mFACTORY_STRATEGY\u001b[0m \u001b[0;34m==\u001b[0m \u001b[0mSTUB_STRATEGY\u001b[0m\u001b[0;34m:\u001b[0m\u001b[0;34m\u001b[0m\u001b[0m\n\u001b[1;32m     83\u001b[0m             \u001b[0;32mreturn\u001b[0m \u001b[0mcls\u001b[0m\u001b[0;34m.\u001b[0m\u001b[0mstub\u001b[0m\u001b[0;34m(\u001b[0m\u001b[0;34m**\u001b[0m\u001b[0mkwargs\u001b[0m\u001b[0;34m)\u001b[0m\u001b[0;34m\u001b[0m\u001b[0m\n",
        "\u001b[0;32m/Users/robertamanfu/.pyenv/versions/my-virtual-env-2.7.6/lib/python2.7/site-packages/factory/base.pyc\u001b[0m in \u001b[0;36mcreate\u001b[0;34m(cls, **kwargs)\u001b[0m\n\u001b[1;32m    513\u001b[0m         \u001b[0;34m\"\"\"Create an instance of the associated class, with overriden attrs.\"\"\"\u001b[0m\u001b[0;34m\u001b[0m\u001b[0m\n\u001b[1;32m    514\u001b[0m         \u001b[0mattrs\u001b[0m \u001b[0;34m=\u001b[0m \u001b[0mcls\u001b[0m\u001b[0;34m.\u001b[0m\u001b[0mattributes\u001b[0m\u001b[0;34m(\u001b[0m\u001b[0mcreate\u001b[0m\u001b[0;34m=\u001b[0m\u001b[0mTrue\u001b[0m\u001b[0;34m,\u001b[0m \u001b[0mextra\u001b[0m\u001b[0;34m=\u001b[0m\u001b[0mkwargs\u001b[0m\u001b[0;34m)\u001b[0m\u001b[0;34m\u001b[0m\u001b[0m\n\u001b[0;32m--> 515\u001b[0;31m         \u001b[0;32mreturn\u001b[0m \u001b[0mcls\u001b[0m\u001b[0;34m.\u001b[0m\u001b[0m_generate\u001b[0m\u001b[0;34m(\u001b[0m\u001b[0mTrue\u001b[0m\u001b[0;34m,\u001b[0m \u001b[0mattrs\u001b[0m\u001b[0;34m)\u001b[0m\u001b[0;34m\u001b[0m\u001b[0m\n\u001b[0m\u001b[1;32m    516\u001b[0m \u001b[0;34m\u001b[0m\u001b[0m\n\u001b[1;32m    517\u001b[0m     \u001b[0;34m@\u001b[0m\u001b[0mclassmethod\u001b[0m\u001b[0;34m\u001b[0m\u001b[0m\n",
        "\u001b[0;32m/Users/robertamanfu/.pyenv/versions/my-virtual-env-2.7.6/lib/python2.7/site-packages/factory/base.pyc\u001b[0m in \u001b[0;36m_generate\u001b[0;34m(cls, create, attrs)\u001b[0m\n\u001b[1;32m    438\u001b[0m \u001b[0;34m\u001b[0m\u001b[0m\n\u001b[1;32m    439\u001b[0m         \u001b[0;31m# Generate the object\u001b[0m\u001b[0;34m\u001b[0m\u001b[0;34m\u001b[0m\u001b[0m\n\u001b[0;32m--> 440\u001b[0;31m         \u001b[0mobj\u001b[0m \u001b[0;34m=\u001b[0m \u001b[0mcls\u001b[0m\u001b[0;34m.\u001b[0m\u001b[0m_prepare\u001b[0m\u001b[0;34m(\u001b[0m\u001b[0mcreate\u001b[0m\u001b[0;34m,\u001b[0m \u001b[0;34m**\u001b[0m\u001b[0mattrs\u001b[0m\u001b[0;34m)\u001b[0m\u001b[0;34m\u001b[0m\u001b[0m\n\u001b[0m\u001b[1;32m    441\u001b[0m \u001b[0;34m\u001b[0m\u001b[0m\n\u001b[1;32m    442\u001b[0m         \u001b[0;31m# Handle post-generation attributes\u001b[0m\u001b[0;34m\u001b[0m\u001b[0;34m\u001b[0m\u001b[0m\n",
        "\u001b[0;32m/Users/robertamanfu/.pyenv/versions/my-virtual-env-2.7.6/lib/python2.7/site-packages/factory/base.pyc\u001b[0m in \u001b[0;36m_prepare\u001b[0;34m(cls, create, **kwargs)\u001b[0m\n\u001b[1;32m    412\u001b[0m         )\n\u001b[1;32m    413\u001b[0m         \u001b[0;32mif\u001b[0m \u001b[0mcreate\u001b[0m\u001b[0;34m:\u001b[0m\u001b[0;34m\u001b[0m\u001b[0m\n\u001b[0;32m--> 414\u001b[0;31m             \u001b[0;32mreturn\u001b[0m \u001b[0mcls\u001b[0m\u001b[0;34m.\u001b[0m\u001b[0m_create\u001b[0m\u001b[0;34m(\u001b[0m\u001b[0mtarget_class\u001b[0m\u001b[0;34m,\u001b[0m \u001b[0;34m*\u001b[0m\u001b[0margs\u001b[0m\u001b[0;34m,\u001b[0m \u001b[0;34m**\u001b[0m\u001b[0mkwargs\u001b[0m\u001b[0;34m)\u001b[0m\u001b[0;34m\u001b[0m\u001b[0m\n\u001b[0m\u001b[1;32m    415\u001b[0m         \u001b[0;32melse\u001b[0m\u001b[0;34m:\u001b[0m\u001b[0;34m\u001b[0m\u001b[0m\n\u001b[1;32m    416\u001b[0m             \u001b[0;32mreturn\u001b[0m \u001b[0mcls\u001b[0m\u001b[0;34m.\u001b[0m\u001b[0m_build\u001b[0m\u001b[0;34m(\u001b[0m\u001b[0mtarget_class\u001b[0m\u001b[0;34m,\u001b[0m \u001b[0;34m*\u001b[0m\u001b[0margs\u001b[0m\u001b[0;34m,\u001b[0m \u001b[0;34m**\u001b[0m\u001b[0mkwargs\u001b[0m\u001b[0;34m)\u001b[0m\u001b[0;34m\u001b[0m\u001b[0m\n",
        "\u001b[0;32m/Users/robertamanfu/Documents/osf-develop/tests/factories.pyc\u001b[0m in \u001b[0;36m_create\u001b[0;34m(cls, target_class, *args, **kwargs)\u001b[0m\n\u001b[1;32m     52\u001b[0m         \u001b[0msave_kwargs\u001b[0m\u001b[0;34m(\u001b[0m\u001b[0;34m**\u001b[0m\u001b[0mkwargs\u001b[0m\u001b[0;34m)\u001b[0m\u001b[0;34m\u001b[0m\u001b[0m\n\u001b[1;32m     53\u001b[0m         \u001b[0minstance\u001b[0m \u001b[0;34m=\u001b[0m \u001b[0mtarget_class\u001b[0m\u001b[0;34m(\u001b[0m\u001b[0;34m*\u001b[0m\u001b[0margs\u001b[0m\u001b[0;34m,\u001b[0m \u001b[0;34m**\u001b[0m\u001b[0mkwargs\u001b[0m\u001b[0;34m)\u001b[0m\u001b[0;34m\u001b[0m\u001b[0m\n\u001b[0;32m---> 54\u001b[0;31m         \u001b[0minstance\u001b[0m\u001b[0;34m.\u001b[0m\u001b[0msave\u001b[0m\u001b[0;34m(\u001b[0m\u001b[0;34m)\u001b[0m\u001b[0;34m\u001b[0m\u001b[0m\n\u001b[0m\u001b[1;32m     55\u001b[0m         \u001b[0;32mreturn\u001b[0m \u001b[0minstance\u001b[0m\u001b[0;34m\u001b[0m\u001b[0m\n\u001b[1;32m     56\u001b[0m \u001b[0;34m\u001b[0m\u001b[0m\n",
        "\u001b[0;32m/Users/robertamanfu/Documents/osf-develop/framework/auth/model.pyc\u001b[0m in \u001b[0;36msave\u001b[0;34m(self, *args, **kwargs)\u001b[0m\n\u001b[1;32m    414\u001b[0m     \u001b[0;32mdef\u001b[0m \u001b[0msave\u001b[0m\u001b[0;34m(\u001b[0m\u001b[0mself\u001b[0m\u001b[0;34m,\u001b[0m \u001b[0;34m*\u001b[0m\u001b[0margs\u001b[0m\u001b[0;34m,\u001b[0m \u001b[0;34m**\u001b[0m\u001b[0mkwargs\u001b[0m\u001b[0;34m)\u001b[0m\u001b[0;34m:\u001b[0m\u001b[0;34m\u001b[0m\u001b[0m\n\u001b[1;32m    415\u001b[0m         \u001b[0mself\u001b[0m\u001b[0;34m.\u001b[0m\u001b[0musername\u001b[0m \u001b[0;34m=\u001b[0m \u001b[0mself\u001b[0m\u001b[0;34m.\u001b[0m\u001b[0musername\u001b[0m\u001b[0;34m.\u001b[0m\u001b[0mlower\u001b[0m\u001b[0;34m(\u001b[0m\u001b[0;34m)\u001b[0m\u001b[0;34m.\u001b[0m\u001b[0mstrip\u001b[0m\u001b[0;34m(\u001b[0m\u001b[0;34m)\u001b[0m \u001b[0;32mif\u001b[0m \u001b[0mself\u001b[0m\u001b[0;34m.\u001b[0m\u001b[0musername\u001b[0m \u001b[0;32melse\u001b[0m \u001b[0mNone\u001b[0m\u001b[0;34m\u001b[0m\u001b[0m\n\u001b[0;32m--> 416\u001b[0;31m         \u001b[0mrv\u001b[0m \u001b[0;34m=\u001b[0m \u001b[0msuper\u001b[0m\u001b[0;34m(\u001b[0m\u001b[0mUser\u001b[0m\u001b[0;34m,\u001b[0m \u001b[0mself\u001b[0m\u001b[0;34m)\u001b[0m\u001b[0;34m.\u001b[0m\u001b[0msave\u001b[0m\u001b[0;34m(\u001b[0m\u001b[0;34m*\u001b[0m\u001b[0margs\u001b[0m\u001b[0;34m,\u001b[0m \u001b[0;34m**\u001b[0m\u001b[0mkwargs\u001b[0m\u001b[0;34m)\u001b[0m\u001b[0;34m\u001b[0m\u001b[0m\n\u001b[0m\u001b[1;32m    417\u001b[0m         \u001b[0;32mif\u001b[0m \u001b[0mself\u001b[0m\u001b[0;34m.\u001b[0m\u001b[0mis_active\u001b[0m\u001b[0;34m(\u001b[0m\u001b[0;34m)\u001b[0m\u001b[0;34m:\u001b[0m\u001b[0;34m\u001b[0m\u001b[0m\n\u001b[1;32m    418\u001b[0m             \u001b[0;32mif\u001b[0m \u001b[0mself\u001b[0m\u001b[0;34m.\u001b[0m\u001b[0mSOLR_UPDATE_FIELDS\u001b[0m\u001b[0;34m.\u001b[0m\u001b[0mintersection\u001b[0m\u001b[0;34m(\u001b[0m\u001b[0mrv\u001b[0m\u001b[0;34m)\u001b[0m\u001b[0;34m:\u001b[0m\u001b[0;34m\u001b[0m\u001b[0m\n",
        "\u001b[0;32m/Users/robertamanfu/Documents/osf-develop/framework/guid/model.pyc\u001b[0m in \u001b[0;36msave\u001b[0;34m(self, *args, **kwargs)\u001b[0m\n\u001b[1;32m     51\u001b[0m     \u001b[0;32mdef\u001b[0m \u001b[0msave\u001b[0m\u001b[0;34m(\u001b[0m\u001b[0mself\u001b[0m\u001b[0;34m,\u001b[0m \u001b[0;34m*\u001b[0m\u001b[0margs\u001b[0m\u001b[0;34m,\u001b[0m \u001b[0;34m**\u001b[0m\u001b[0mkwargs\u001b[0m\u001b[0;34m)\u001b[0m\u001b[0;34m:\u001b[0m\u001b[0;34m\u001b[0m\u001b[0m\n\u001b[1;32m     52\u001b[0m         \u001b[0;34m\"\"\" Ensure GUID on save initialization. \"\"\"\u001b[0m\u001b[0;34m\u001b[0m\u001b[0m\n\u001b[0;32m---> 53\u001b[0;31m         \u001b[0mself\u001b[0m\u001b[0;34m.\u001b[0m\u001b[0m_ensure_guid\u001b[0m\u001b[0;34m(\u001b[0m\u001b[0;34m)\u001b[0m\u001b[0;34m\u001b[0m\u001b[0m\n\u001b[0m\u001b[1;32m     54\u001b[0m         \u001b[0;32mreturn\u001b[0m \u001b[0msuper\u001b[0m\u001b[0;34m(\u001b[0m\u001b[0mGuidStoredObject\u001b[0m\u001b[0;34m,\u001b[0m \u001b[0mself\u001b[0m\u001b[0;34m)\u001b[0m\u001b[0;34m.\u001b[0m\u001b[0msave\u001b[0m\u001b[0;34m(\u001b[0m\u001b[0;34m*\u001b[0m\u001b[0margs\u001b[0m\u001b[0;34m,\u001b[0m \u001b[0;34m**\u001b[0m\u001b[0mkwargs\u001b[0m\u001b[0;34m)\u001b[0m\u001b[0;34m\u001b[0m\u001b[0m\n\u001b[1;32m     55\u001b[0m \u001b[0;34m\u001b[0m\u001b[0m\n",
        "\u001b[0;32m/Users/robertamanfu/Documents/osf-develop/framework/guid/model.pyc\u001b[0m in \u001b[0;36m_ensure_guid\u001b[0;34m(self)\u001b[0m\n\u001b[1;32m     42\u001b[0m             \u001b[0;31m# Create GUID\u001b[0m\u001b[0;34m\u001b[0m\u001b[0;34m\u001b[0m\u001b[0m\n\u001b[1;32m     43\u001b[0m             \u001b[0mguid\u001b[0m \u001b[0;34m=\u001b[0m \u001b[0mGuid\u001b[0m\u001b[0;34m(\u001b[0m\u001b[0;34m)\u001b[0m\u001b[0;34m\u001b[0m\u001b[0m\n\u001b[0;32m---> 44\u001b[0;31m             \u001b[0mguid\u001b[0m\u001b[0;34m.\u001b[0m\u001b[0msave\u001b[0m\u001b[0;34m(\u001b[0m\u001b[0;34m)\u001b[0m\u001b[0;34m\u001b[0m\u001b[0m\n\u001b[0m\u001b[1;32m     45\u001b[0m             \u001b[0mguid\u001b[0m\u001b[0;34m.\u001b[0m\u001b[0mreferent\u001b[0m \u001b[0;34m=\u001b[0m \u001b[0;34m(\u001b[0m\u001b[0mguid\u001b[0m\u001b[0;34m.\u001b[0m\u001b[0m_primary_key\u001b[0m\u001b[0;34m,\u001b[0m \u001b[0mself\u001b[0m\u001b[0;34m.\u001b[0m\u001b[0m_name\u001b[0m\u001b[0;34m)\u001b[0m\u001b[0;34m\u001b[0m\u001b[0m\n\u001b[1;32m     46\u001b[0m             \u001b[0mguid\u001b[0m\u001b[0;34m.\u001b[0m\u001b[0msave\u001b[0m\u001b[0;34m(\u001b[0m\u001b[0;34m)\u001b[0m\u001b[0;34m\u001b[0m\u001b[0m\n",
        "\u001b[0;32m/Users/robertamanfu/.pyenv/versions/my-virtual-env-2.7.6/src/modular-odm/modularodm/storedobject.pyc\u001b[0m in \u001b[0;36mwrapped\u001b[0;34m(*args, **kwargs)\u001b[0m\n\u001b[1;32m     94\u001b[0m             raise exceptions.ImproperConfigurationError(\n\u001b[1;32m     95\u001b[0m                 \u001b[0;34m'No storage backend attached to schema <{0}>.'\u001b[0m\u001b[0;34m\u001b[0m\u001b[0m\n\u001b[0;32m---> 96\u001b[0;31m                     \u001b[0;34m.\u001b[0m\u001b[0mformat\u001b[0m\u001b[0;34m(\u001b[0m\u001b[0mme\u001b[0m\u001b[0;34m.\u001b[0m\u001b[0m_name\u001b[0m\u001b[0;34m.\u001b[0m\u001b[0mupper\u001b[0m\u001b[0;34m(\u001b[0m\u001b[0;34m)\u001b[0m\u001b[0;34m)\u001b[0m\u001b[0;34m\u001b[0m\u001b[0m\n\u001b[0m\u001b[1;32m     97\u001b[0m             )\n\u001b[1;32m     98\u001b[0m         \u001b[0;32mreturn\u001b[0m \u001b[0mfunc\u001b[0m\u001b[0;34m(\u001b[0m\u001b[0;34m*\u001b[0m\u001b[0margs\u001b[0m\u001b[0;34m,\u001b[0m \u001b[0;34m**\u001b[0m\u001b[0mkwargs\u001b[0m\u001b[0;34m)\u001b[0m\u001b[0;34m\u001b[0m\u001b[0m\n",
        "\u001b[0;31mImproperConfigurationError\u001b[0m: No storage backend attached to schema <GUID>."
       ]
      }
     ],
     "prompt_number": 14
    },
    {
     "cell_type": "code",
     "collapsed": false,
     "input": [
      "sys.path"
     ],
     "language": "python",
     "metadata": {},
     "outputs": []
    },
    {
     "cell_type": "markdown",
     "metadata": {},
     "source": [
      "\n",
      "#####To run tests:\n",
      "    invoke solr\n",
      "    invoke test_addons\n",
      "    \n",
      "#####result:\n",
      "Ran 263 tests in 268.688s\n",
      "FAILED (SKIP=7, errors=13, failures=4)\n"
     ]
    }
   ],
   "metadata": {}
  }
 ]
}